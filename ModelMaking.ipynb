{
 "cells": [
  {
   "cell_type": "code",
   "execution_count": 212,
   "metadata": {},
   "outputs": [],
   "source": [
    "import Distributions\n",
    "import DataStructures\n",
    "using Images\n",
    "using PyPlot"
   ]
  },
  {
   "cell_type": "code",
   "execution_count": 213,
   "metadata": {},
   "outputs": [
    {
     "data": {
      "text/plain": [
       "sampleDisplacement (generic function with 1 method)"
      ]
     },
     "execution_count": 213,
     "metadata": {},
     "output_type": "execute_result"
    }
   ],
   "source": [
    "const alpha = 0.55\n",
    "const h = 100\n",
    "const top = h^alpha\n",
    "function sampleDisplacement()\n",
    "    u = rand()\n",
    "    return (-((u * (top - 1) - top) / top))^(-1/alpha)\n",
    "end"
   ]
  },
  {
   "cell_type": "code",
   "execution_count": 214,
   "metadata": {},
   "outputs": [
    {
     "data": {
      "text/plain": [
       "sampleDelay (generic function with 2 methods)"
      ]
     },
     "execution_count": 214,
     "metadata": {},
     "output_type": "execute_result"
    }
   ],
   "source": [
    "const beta = 0.8\n",
    "const h2 = 17\n",
    "const top2 = h2^beta\n",
    "function sampleDelay(n)\n",
    "    u = rand(n)\n",
    "    return (-((u .* (top2 - 1) - top2) / top2)).^(-1/beta)\n",
    "end"
   ]
  },
  {
   "cell_type": "code",
   "execution_count": 278,
   "metadata": {},
   "outputs": [
    {
     "data": {
      "text/plain": [
       "gridCells (generic function with 1 method)"
      ]
     },
     "execution_count": 278,
     "metadata": {},
     "output_type": "execute_result"
    }
   ],
   "source": [
    "function gridCells(loc, rr) :: Array{Array{Int,1}, 1}\n",
    "    cells = Array{Array{Int,1}, 1}()\n",
    "    for r in [rr]\n",
    "        angle = 1.0 / r\n",
    "        for theta in angle:angle:(2*pi - angle)\n",
    "            rot = [cos(theta), sin(theta)]\n",
    "            push!(cells, trunc.(Int, loc + rot * r))\n",
    "        end\n",
    "    end\n",
    "    cells\n",
    "end"
   ]
  },
  {
   "cell_type": "code",
   "execution_count": 279,
   "metadata": {},
   "outputs": [
    {
     "data": {
      "text/plain": [
       "sampleJump (generic function with 1 method)"
      ]
     },
     "execution_count": 279,
     "metadata": {},
     "output_type": "execute_result"
    }
   ],
   "source": [
    "function sampleJump(loc, allVisits, r)\n",
    "    whichCells = gridCells(loc, r)\n",
    "    unnormalized = getindex.(allVisits, whichCells) + 1\n",
    "    sqvals = unnormalized .^ 2\n",
    "    prob = sqvals ./ sum(sqvals)\n",
    "    cell = rand(Distributions.Categorical(prob))\n",
    "    whichCells[cell]\n",
    "end"
   ]
  },
  {
   "cell_type": "markdown",
   "metadata": {},
   "source": [
    "For a given frequency $f$ and even radius $r$, we plot the average over all cells of the number of visitors to this cell that came from truncated half distance $r/2$ away"
   ]
  },
  {
   "cell_type": "code",
   "execution_count": 271,
   "metadata": {},
   "outputs": [
    {
     "data": {
      "text/plain": [
       "monoidDict (generic function with 1 method)"
      ]
     },
     "execution_count": 271,
     "metadata": {},
     "output_type": "execute_result"
    }
   ],
   "source": [
    "function monoidDict(keys, vals)\n",
    "    d = DataStructures.DefaultDict(typeof(keys[1]), typeof(vals[1]), 0)\n",
    "    for i in 1:size(keys)[1]\n",
    "        d[keys[i]] += vals[i]\n",
    "    end\n",
    "    d\n",
    "end"
   ]
  },
  {
   "cell_type": "code",
   "execution_count": 270,
   "metadata": {},
   "outputs": [
    {
     "data": {
      "text/plain": [
       "randomJump (generic function with 1 method)"
      ]
     },
     "execution_count": 270,
     "metadata": {},
     "output_type": "execute_result"
    }
   ],
   "source": [
    "function randomJump(l, r)\n",
    "    theta = rand() * 2 * pi\n",
    "    h = [cos(theta), sin(theta)]\n",
    "    l + h * r\n",
    "end"
   ]
  },
  {
   "cell_type": "code",
   "execution_count": 332,
   "metadata": {},
   "outputs": [
    {
     "name": "stderr",
     "output_type": "stream",
     "text": [
      "WARNING: redefining constant monthHours\n"
     ]
    },
    {
     "data": {
      "text/plain": [
       "walk (generic function with 2 methods)"
      ]
     },
     "execution_count": 332,
     "metadata": {},
     "output_type": "execute_result"
    }
   ],
   "source": [
    "const rho = 0.6\n",
    "const gamma = 0.21\n",
    "const monthHours = 24 * 30\n",
    "\n",
    "function walk(n, prefExp)\n",
    "    energy = zeros(n, 100, 100)\n",
    "    \n",
    "    nextjump = zeros(Float32,n)\n",
    "    seen = ones(Int,n)\n",
    "    homes = rand(150:160,n,2)\n",
    "    locs = copy(homes)\n",
    "    allVisits = DataStructures.DefaultDict(Array{Int,1}, Int, 0)\n",
    "    visits = [[1] for _ in 1:n]\n",
    "    visitLoc = [[locs[i,:]] for i in 1:n]\n",
    "    time =0.0\n",
    "    while time .< monthHours\n",
    "        nextjump = time + sampleDelay(n)\n",
    "        perm = sortperm(nextjump)\n",
    "        for j in 1:n\n",
    "            i = perm[j]\n",
    "            time = nextjump[i]\n",
    "            l = locs[i,:]\n",
    "            allVisits[l] += 1\n",
    "            if all(l .>= 100) && all(l .< 200)\n",
    "                energy[i, (l - 99)...] += norm(homes[i,:] - l)\n",
    "            end\n",
    "            if rand() < rho * seen[i] ^ -gamma\n",
    "                seen[i] += 1\n",
    "                push!(visits[i], 1)\n",
    "                r = sampleDisplacement()\n",
    "                loc = prefExp ? sampleJump(l, allVisits, r) : randomJump(l, r)\n",
    "                push!(visitLoc[i], loc)\n",
    "                locs[i,:] = copy(loc)\n",
    "            else\n",
    "                sqvisits = visits[i].^2\n",
    "                locid = rand(Distributions.Categorical(sqvisits / sum(sqvisits)))\n",
    "                visits[i][locid] += 1\n",
    "                locs[i,:] = copy(visitLoc[i][locid])\n",
    "            end\n",
    "        end\n",
    "    end\n",
    "    freq_dist_count = zeros(Int, 10, 50)\n",
    "    for i in 1:n\n",
    "        for (k,v) in monoidDict(visitLoc[i], visits[i])\n",
    "            if all(k .>= 100) && all(k .< 200)\n",
    "                halfdist = trunc(Int, norm(homes[i,:] - k) / 2)\n",
    "                if halfdist < 50 && v > 0 && v <= 10\n",
    "                    freq_dist_count[v, halfdist + 1] += 1\n",
    "                end\n",
    "            end\n",
    "        end\n",
    "    end\n",
    "    energy, homes, freq_dist_count\n",
    "end"
   ]
  },
  {
   "cell_type": "code",
   "execution_count": null,
   "metadata": {},
   "outputs": [],
   "source": [
    "# Show figure 1 for barabasi, and with modification"
   ]
  },
  {
   "cell_type": "code",
   "execution_count": 219,
   "metadata": {},
   "outputs": [],
   "source": [
    "uni_energy, uni_freqdist = walk(100000, false);"
   ]
  },
  {
   "cell_type": "code",
   "execution_count": 333,
   "metadata": {},
   "outputs": [],
   "source": [
    "energy, homes, freqdist = walk(3, true);"
   ]
  },
  {
   "cell_type": "code",
   "execution_count": null,
   "metadata": {},
   "outputs": [],
   "source": [
    "# Maybe for debugging we have one energy channel per person\n",
    "# Then plot it in rgb (with two people)\n",
    "# Can put the home locations as the third channel"
   ]
  },
  {
   "cell_type": "code",
   "execution_count": null,
   "metadata": {},
   "outputs": [],
   "source": [
    "# How do we model hierarchies better?\n",
    "# We could go in the direction of an existing point. \n",
    "# with magnitude sampled as before\n",
    "# Existing points are picked according to "
   ]
  },
  {
   "cell_type": "code",
   "execution_count": null,
   "metadata": {},
   "outputs": [],
   "source": [
    "# It's a grid, right? Let's do something simple\n",
    "# You sample a radius. Pick up or down.\n",
    "# You sample another radius. Go left or right. "
   ]
  },
  {
   "cell_type": "code",
   "execution_count": null,
   "metadata": {},
   "outputs": [],
   "source": [
    "# Nah, this isn't working so well. \n",
    "# Dang. \n",
    "# We could do something easier:\n",
    "# Pick a grid section, sample according to total visits"
   ]
  },
  {
   "cell_type": "code",
   "execution_count": 320,
   "metadata": {
    "collapsed": true
   },
   "outputs": [
    {
     "ename": "InterruptException",
     "evalue": "\u001b[91mInterruptException:\u001b[39m",
     "output_type": "error",
     "traceback": [
      "\u001b[91mInterruptException:\u001b[39m",
      "",
      "Stacktrace:",
      " [1] \u001b[1m#_pycall#67\u001b[22m\u001b[22m\u001b[1m(\u001b[22m\u001b[22m::Array{Any,1}, ::Function, ::PyCall.PyObject, ::IOContext{Base64EncodePipe}, ::Vararg{IOContext{Base64EncodePipe},N} where N\u001b[1m)\u001b[22m\u001b[22m at \u001b[1m/home/sam/.julia/v0.6/PyCall/src/PyCall.jl:663\u001b[22m\u001b[22m",
      " [2] \u001b[1m(::PyCall.#kw##_pycall)\u001b[22m\u001b[22m\u001b[1m(\u001b[22m\u001b[22m::Array{Any,1}, ::PyCall.#_pycall, ::PyCall.PyObject, ::IOContext{Base64EncodePipe}, ::Vararg{IOContext{Base64EncodePipe},N} where N\u001b[1m)\u001b[22m\u001b[22m at \u001b[1m./<missing>:0\u001b[22m\u001b[22m",
      " [3] \u001b[1m#pycall#71\u001b[22m\u001b[22m\u001b[1m(\u001b[22m\u001b[22m::Array{Any,1}, ::Function, ::PyCall.PyObject, ::Type{PyCall.PyAny}, ::IOContext{Base64EncodePipe}, ::Vararg{IOContext{Base64EncodePipe},N} where N\u001b[1m)\u001b[22m\u001b[22m at \u001b[1m/home/sam/.julia/v0.6/PyCall/src/PyCall.jl:675\u001b[22m\u001b[22m",
      " [4] \u001b[1m(::PyCall.#kw##pycall)\u001b[22m\u001b[22m\u001b[1m(\u001b[22m\u001b[22m::Array{Any,1}, ::PyCall.#pycall, ::PyCall.PyObject, ::Type{PyCall.PyAny}, ::IOContext{Base64EncodePipe}, ::Vararg{IOContext{Base64EncodePipe},N} where N\u001b[1m)\u001b[22m\u001b[22m at \u001b[1m./<missing>:0\u001b[22m\u001b[22m",
      " [5] \u001b[1m#call#72\u001b[22m\u001b[22m\u001b[1m(\u001b[22m\u001b[22m::Array{Any,1}, ::PyCall.PyObject, ::IOContext{Base64EncodePipe}, ::Vararg{IOContext{Base64EncodePipe},N} where N\u001b[1m)\u001b[22m\u001b[22m at \u001b[1m/home/sam/.julia/v0.6/PyCall/src/PyCall.jl:678\u001b[22m\u001b[22m",
      " [6] \u001b[1m(::PyCall.#kw#PyObject)\u001b[22m\u001b[22m\u001b[1m(\u001b[22m\u001b[22m::Array{Any,1}, ::PyCall.PyObject, ::IOContext{Base64EncodePipe}, ::Vararg{IOContext{Base64EncodePipe},N} where N\u001b[1m)\u001b[22m\u001b[22m at \u001b[1m./<missing>:0\u001b[22m\u001b[22m",
      " [7] \u001b[1mshow\u001b[22m\u001b[22m\u001b[1m(\u001b[22m\u001b[22m::IOContext{Base64EncodePipe}, ::MIME{Symbol(\"image/png\")}, ::PyPlot.Figure\u001b[1m)\u001b[22m\u001b[22m at \u001b[1m/home/sam/.julia/v0.6/PyPlot/src/PyPlot.jl:78\u001b[22m\u001b[22m",
      " [8] \u001b[1mlimitstringmime\u001b[22m\u001b[22m\u001b[1m(\u001b[22m\u001b[22m::MIME{Symbol(\"image/png\")}, ::PyPlot.Figure\u001b[1m)\u001b[22m\u001b[22m at \u001b[1m/home/sam/.julia/v0.6/IJulia/src/inline.jl:31\u001b[22m\u001b[22m",
      " [9] \u001b[1mdisplay_dict\u001b[22m\u001b[22m\u001b[1m(\u001b[22m\u001b[22m::PyPlot.Figure\u001b[1m)\u001b[22m\u001b[22m at \u001b[1m/home/sam/.julia/v0.6/IJulia/src/execute_request.jl:36\u001b[22m\u001b[22m",
      " [10] \u001b[1mdisplay\u001b[22m\u001b[22m\u001b[1m(\u001b[22m\u001b[22m::IJulia.InlineDisplay, ::PyPlot.Figure\u001b[1m)\u001b[22m\u001b[22m at \u001b[1m/home/sam/.julia/v0.6/IJulia/src/inline.jl:77\u001b[22m\u001b[22m",
      " [11] \u001b[1mdisplay\u001b[22m\u001b[22m\u001b[1m(\u001b[22m\u001b[22m::PyPlot.Figure\u001b[1m)\u001b[22m\u001b[22m at \u001b[1m./multimedia.jl:218\u001b[22m\u001b[22m",
      " [12] \u001b[1mdisplay_figs\u001b[22m\u001b[22m\u001b[1m(\u001b[22m\u001b[22m\u001b[1m)\u001b[22m\u001b[22m at \u001b[1m/home/sam/.julia/v0.6/PyPlot/src/PyPlot.jl:114\u001b[22m\u001b[22m",
      " [13] \u001b[1m(::Compat.#inner#17{Array{Any,1},PyPlot.#display_figs,Tuple{}})\u001b[22m\u001b[22m\u001b[1m(\u001b[22m\u001b[22m\u001b[1m)\u001b[22m\u001b[22m at \u001b[1m/home/sam/.julia/v0.6/Compat/src/Compat.jl:385\u001b[22m\u001b[22m",
      " [14] \u001b[1mexecute_request\u001b[22m\u001b[22m\u001b[1m(\u001b[22m\u001b[22m::ZMQ.Socket, ::IJulia.Msg\u001b[1m)\u001b[22m\u001b[22m at \u001b[1m/home/sam/.julia/v0.6/IJulia/src/execute_request.jl:175\u001b[22m\u001b[22m",
      " [15] \u001b[1m(::Compat.#inner#17{Array{Any,1},IJulia.#execute_request,Tuple{ZMQ.Socket,IJulia.Msg}})\u001b[22m\u001b[22m\u001b[1m(\u001b[22m\u001b[22m\u001b[1m)\u001b[22m\u001b[22m at \u001b[1m/home/sam/.julia/v0.6/Compat/src/Compat.jl:385\u001b[22m\u001b[22m",
      " [16] \u001b[1meventloop\u001b[22m\u001b[22m\u001b[1m(\u001b[22m\u001b[22m::ZMQ.Socket\u001b[1m)\u001b[22m\u001b[22m at \u001b[1m/home/sam/.julia/v0.6/IJulia/src/eventloop.jl:8\u001b[22m\u001b[22m",
      " [17] \u001b[1m(::IJulia.##14#17)\u001b[22m\u001b[22m\u001b[1m(\u001b[22m\u001b[22m\u001b[1m)\u001b[22m\u001b[22m at \u001b[1m./task.jl:335\u001b[22m\u001b[22m"
     ]
    }
   ],
   "source": [
    "for f in 1:5\n",
    "    xaxis = (1:50) * 2 * f^2\n",
    "    mask = (@view freqdist[f,:]) .> 0\n",
    "    loglog(xaxis[mask], freqdist[f,mask], \"o\")\n",
    "end\n",
    "legend(1:5)"
   ]
  },
  {
   "cell_type": "code",
   "execution_count": 334,
   "metadata": {},
   "outputs": [],
   "source": [
    "scaled_energy = (energy ./ maximum(energy));"
   ]
  },
  {
   "cell_type": "code",
   "execution_count": null,
   "metadata": {},
   "outputs": [],
   "source": [
    "# Still doesn't produce hierarchies"
   ]
  },
  {
   "cell_type": "code",
   "execution_count": 313,
   "metadata": {},
   "outputs": [],
   "source": [
    "writedlm(\"oneEnergy\", energy)"
   ]
  },
  {
   "cell_type": "code",
   "execution_count": 335,
   "metadata": {},
   "outputs": [
    {
     "data": {
      "image/png": "[encoded data removed]",
      "text/plain": [
       "100×100 Array{RGB{Float64},2}:\n",
       " RGB{Float64}(0.0,0.0,0.0)  …  RGB{Float64}(0.0,0.0,0.0)\n",
       " RGB{Float64}(0.0,0.0,0.0)     RGB{Float64}(0.0,0.0,0.0)\n",
       " RGB{Float64}(0.0,0.0,0.0)     RGB{Float64}(0.0,0.0,0.0)\n",
       " RGB{Float64}(0.0,0.0,0.0)     RGB{Float64}(0.0,0.0,0.0)\n",
       " RGB{Float64}(0.0,0.0,0.0)     RGB{Float64}(0.0,0.0,0.0)\n",
       " RGB{Float64}(0.0,0.0,0.0)  …  RGB{Float64}(0.0,0.0,0.0)\n",
       " RGB{Float64}(0.0,0.0,0.0)     RGB{Float64}(0.0,0.0,0.0)\n",
       " RGB{Float64}(0.0,0.0,0.0)     RGB{Float64}(0.0,0.0,0.0)\n",
       " RGB{Float64}(0.0,0.0,0.0)     RGB{Float64}(0.0,0.0,0.0)\n",
       " RGB{Float64}(0.0,0.0,0.0)     RGB{Float64}(0.0,0.0,0.0)\n",
       " RGB{Float64}(0.0,0.0,0.0)  …  RGB{Float64}(0.0,0.0,0.0)\n",
       " RGB{Float64}(0.0,0.0,0.0)     RGB{Float64}(0.0,0.0,0.0)\n",
       " RGB{Float64}(0.0,0.0,0.0)     RGB{Float64}(0.0,0.0,0.0)\n",
       " ⋮                          ⋱                           \n",
       " RGB{Float64}(0.0,0.0,0.0)     RGB{Float64}(0.0,0.0,0.0)\n",
       " RGB{Float64}(0.0,0.0,0.0)     RGB{Float64}(0.0,0.0,0.0)\n",
       " RGB{Float64}(0.0,0.0,0.0)  …  RGB{Float64}(0.0,0.0,0.0)\n",
       " RGB{Float64}(0.0,0.0,0.0)     RGB{Float64}(0.0,0.0,0.0)\n",
       " RGB{Float64}(0.0,0.0,0.0)     RGB{Float64}(0.0,0.0,0.0)\n",
       " RGB{Float64}(0.0,0.0,0.0)     RGB{Float64}(0.0,0.0,0.0)\n",
       " RGB{Float64}(0.0,0.0,0.0)     RGB{Float64}(0.0,0.0,0.0)\n",
       " RGB{Float64}(0.0,0.0,0.0)  …  RGB{Float64}(0.0,0.0,0.0)\n",
       " RGB{Float64}(0.0,0.0,0.0)     RGB{Float64}(0.0,0.0,0.0)\n",
       " RGB{Float64}(0.0,0.0,0.0)     RGB{Float64}(0.0,0.0,0.0)\n",
       " RGB{Float64}(0.0,0.0,0.0)     RGB{Float64}(0.0,0.0,0.0)\n",
       " RGB{Float64}(0.0,0.0,0.0)     RGB{Float64}(0.0,0.0,0.0)"
      ]
     },
     "execution_count": 335,
     "metadata": {},
     "output_type": "execute_result"
    }
   ],
   "source": [
    "colorview(RGB, scaled_energy)"
   ]
  }
 ],
 "metadata": {
  "kernelspec": {
   "display_name": "Julia nodeps 0.6.0",
   "language": "julia",
   "name": "julia-nodeps-0.6"
  },
  "language_info": {
   "file_extension": ".jl",
   "mimetype": "application/julia",
   "name": "julia",
   "version": "0.6.2"
  }
 },
 "nbformat": 4,
 "nbformat_minor": 2
}

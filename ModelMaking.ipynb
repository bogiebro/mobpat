{
 "cells": [
  {
   "cell_type": "code",
   "execution_count": 1,
   "metadata": {},
   "outputs": [],
   "source": [
    "import Distributions\n",
    "import DataStructures\n",
    "using Images"
   ]
  },
  {
   "cell_type": "code",
   "execution_count": 2,
   "metadata": {},
   "outputs": [
    {
     "data": {
      "text/plain": [
       "sampleDisplacement (generic function with 1 method)"
      ]
     },
     "execution_count": 2,
     "metadata": {},
     "output_type": "execute_result"
    }
   ],
   "source": [
    "const alpha = 0.55\n",
    "const h = 100\n",
    "const top = h^alpha\n",
    "function sampleDisplacement()\n",
    "    u = rand()\n",
    "    return (-((u * (top - 1) - top) / top))^(-1/alpha)\n",
    "end"
   ]
  },
  {
   "cell_type": "code",
   "execution_count": 3,
   "metadata": {},
   "outputs": [
    {
     "data": {
      "text/plain": [
       "sampleDelay (generic function with 1 method)"
      ]
     },
     "execution_count": 3,
     "metadata": {},
     "output_type": "execute_result"
    }
   ],
   "source": [
    "const beta = 0.8\n",
    "const h2 = 17\n",
    "const top2 = h2^beta\n",
    "function sampleDelay()\n",
    "    u = rand()\n",
    "    return (-((u * (top2 - 1) - top2) / top2))^(-1/beta)\n",
    "end"
   ]
  },
  {
   "cell_type": "code",
   "execution_count": 59,
   "metadata": {},
   "outputs": [
    {
     "data": {
      "text/plain": [
       "gridCells (generic function with 1 method)"
      ]
     },
     "execution_count": 59,
     "metadata": {},
     "output_type": "execute_result"
    }
   ],
   "source": [
    "function gridCells(loc, r) :: Array{Array{Int,1}, 1}\n",
    "    cells = Array{Array{Int,1}, 1}()\n",
    "    angle = 1.0 / r\n",
    "    for theta in angle:angle:(2*pi - angle)\n",
    "        rot = [cos(theta), sin(theta)]\n",
    "        push!(cells, trunc.(Int, loc + rot * r))\n",
    "    end\n",
    "    cells\n",
    "end"
   ]
  },
  {
   "cell_type": "code",
   "execution_count": 5,
   "metadata": {},
   "outputs": [
    {
     "data": {
      "text/plain": [
       "sampleJump (generic function with 1 method)"
      ]
     },
     "execution_count": 5,
     "metadata": {},
     "output_type": "execute_result"
    }
   ],
   "source": [
    "function sampleJump(loc, allVisits, r)\n",
    "    whichCells = gridCells(loc, r)\n",
    "    unnormalized = getindex.(allVisits, whichCells) + 1\n",
    "    prob = unnormalized ./ sum(unnormalized)\n",
    "    cell = rand(Distributions.Categorical(prob))\n",
    "    whichCells[cell]\n",
    "end\n",
    "    "
   ]
  },
  {
   "cell_type": "markdown",
   "metadata": {},
   "source": [
    "For a given frequency $f$ and even radius $r$, we plot the average over all cells of the number of visitors to this cell that came from truncated half distance $r/2$ away"
   ]
  },
  {
   "cell_type": "code",
   "execution_count": 49,
   "metadata": {},
   "outputs": [
    {
     "data": {
      "text/plain": [
       "monoidDict (generic function with 1 method)"
      ]
     },
     "execution_count": 49,
     "metadata": {},
     "output_type": "execute_result"
    }
   ],
   "source": [
    "function monoidDict(keys, vals)\n",
    "    d = DataStructures.DefaultDict(typeof(keys[1]), typeof(vals[1]), 0)\n",
    "    for i in 1:size(keys)[1]\n",
    "        d[keys[i]] += vals[i]\n",
    "    end\n",
    "    d\n",
    "end"
   ]
  },
  {
   "cell_type": "code",
   "execution_count": 51,
   "metadata": {},
   "outputs": [
    {
     "data": {
      "text/plain": [
       "DataStructures.DefaultDict{String,Int64,Int64} with 2 entries:\n",
       "  \"ha\" => 1\n",
       "  \"ba\" => 2"
      ]
     },
     "execution_count": 51,
     "metadata": {},
     "output_type": "execute_result"
    }
   ],
   "source": [
    "dd = monoidDict([\"ha\", \"ba\"], [1, 2])"
   ]
  },
  {
   "cell_type": "code",
   "execution_count": 54,
   "metadata": {},
   "outputs": [
    {
     "name": "stdout",
     "output_type": "stream",
     "text": [
      "ha1\n",
      "ba2\n"
     ]
    }
   ],
   "source": [
    "for (k,v) in dd\n",
    "    println(k, v)\n",
    "end"
   ]
  },
  {
   "cell_type": "markdown",
   "metadata": {},
   "source": [
    "The timescales don't match up. We need to only increment time by the smallest person's time jump"
   ]
  },
  {
   "cell_type": "code",
   "execution_count": 66,
   "metadata": {},
   "outputs": [
    {
     "data": {
      "text/plain": [
       "walk (generic function with 1 method)"
      ]
     },
     "execution_count": 66,
     "metadata": {},
     "output_type": "execute_result"
    }
   ],
   "source": [
    "const rho = 0.6\n",
    "const gamma = 0.21\n",
    "const monthHours = 24 * 30\n",
    "\n",
    "function walk(n)\n",
    "    energy = zeros(100, 100)\n",
    "    \n",
    "    times = zeros(n)\n",
    "    seen = ones(n)\n",
    "    homes = rand(0:300,n,2)\n",
    "    locs = copy(homes)\n",
    "    allVisits = DataStructures.DefaultDict(Array{Int,1}, Int, 0)\n",
    "    visits = [[1] for _ in 1:n]\n",
    "    visitLoc = [[locs[i,:]] for i in 1:n]\n",
    "    while all(times .< monthHours)\n",
    "        for i in 1:n\n",
    "            l = locs[i,:]\n",
    "            allVisits[l] += 1\n",
    "            if all(l .>= 100) && all(l .< 200)\n",
    "                energy[(l - 99)...] += norm(homes[i,:] - l)\n",
    "            end\n",
    "            times[i] < monthHours || continue\n",
    "            times[i] += sampleDelay()\n",
    "            if rand() < rho * seen[i] ^ -gamma\n",
    "                seen[i] += 1\n",
    "                push!(visits[i], 1)\n",
    "                loc = sampleJump(l, allVisits, sampleDisplacement())\n",
    "                push!(visitLoc[i], loc)\n",
    "                locs[i,:] = loc\n",
    "            else\n",
    "                sqvisits = visits[i].^2\n",
    "                locid = rand(Distributions.Categorical(sqvisits / sum(sqvisits)))\n",
    "                visits[i][locid] += 1\n",
    "                locs[i,:] = visitLoc[i][locid]\n",
    "            end\n",
    "        end\n",
    "    end\n",
    "    freq_dist_count = zeros(Int, 10, 50) # map from frequency, distance/2 to count\n",
    "    for i in 1:n\n",
    "        for (k,v) in monoidDict(visitLoc[i], visits[i])\n",
    "            halfdist = trunc(Int, norm(homes[i] - k) / 2)\n",
    "            if halfdist < 50 && v > 0 && v <= 10\n",
    "                freq_dist_count[v, halfdist + 1] += 1\n",
    "            end\n",
    "        end\n",
    "    end\n",
    "    energy, freq_dist_count\n",
    "end"
   ]
  },
  {
   "cell_type": "code",
   "execution_count": 68,
   "metadata": {},
   "outputs": [],
   "source": [
    "energy, freqdist = walk(10000);"
   ]
  },
  {
   "cell_type": "code",
   "execution_count": 34,
   "metadata": {},
   "outputs": [
    {
     "data": {
      "text/plain": [
       "100×100 Array{Float64,2}:\n",
       "  0.557737    0.313361   3.45143    …   0.388998    0.188609    0.0333417\n",
       " 19.9912     12.9145     0.132157       0.354711    6.67431     0.0      \n",
       "  0.0         3.55528    5.90481        0.360872    1.82309     0.0      \n",
       "  0.0         1.55396    0.17955        0.0         0.0         2.47907  \n",
       "  0.0         0.0972069  2.79441        0.0         4.69816     0.0      \n",
       "  1.61061     0.0        5.36162    …  31.0032      4.80233     2.26864  \n",
       "  0.0         0.213491   0.0            2.63956     0.235761    0.0      \n",
       "  0.0         1.69056    1.14146        0.0471523   9.34825     8.83819  \n",
       "  2.36177     0.100025   1.58703        1.50401     0.150961    0.0972069\n",
       "  0.660552    0.0        5.67631        0.0         0.117881    0.330907 \n",
       "  0.196261    1.60783    0.0        …   0.0         2.58855     0.149109 \n",
       "  0.811238    0.80846    3.87412        1.40543     0.0         0.210871 \n",
       "  0.407139    0.0        0.0            0.710915    0.0         0.201435 \n",
       "  ⋮                                 ⋱                                    \n",
       "  0.0         0.0        0.0471523      4.43507     0.0         1.14423  \n",
       "  0.660552    1.14131    1.78611        0.720989    0.0         1.57951  \n",
       " 36.3994      0.948921   0.201435   …   0.0943045   0.0527178   0.605466 \n",
       "  0.835656    1.39526    2.21391        1.23178     0.445455    0.278591 \n",
       "  1.73072     9.82636    2.33281        0.20281    17.3232     13.6952   \n",
       "  0.0         0.0        7.01152        0.78493     0.0         0.327912 \n",
       "  0.0         2.8364     0.0            0.957006    1.19896     0.0      \n",
       "  0.0235761   2.04422    0.354623   …   1.33842     0.350484    0.0707284\n",
       "  5.30921     2.25478    0.475425       0.505069    0.0         1.13779  \n",
       "  0.0         0.0333417  0.433602       2.70596     1.12469     0.715876 \n",
       "  1.07936     0.975466   3.01272        0.54757     3.18861     1.39518  \n",
       "  0.311949    1.77478    2.47106        0.0         0.510833    0.522418 "
      ]
     },
     "execution_count": 34,
     "metadata": {},
     "output_type": "execute_result"
    }
   ],
   "source": [
    "scaled = (g ./ maximum(g)) * 256"
   ]
  },
  {
   "cell_type": "code",
   "execution_count": 36,
   "metadata": {},
   "outputs": [
    {
     "data": {
      "image/png": "[encoded data removed]",
      "text/plain": [
       "100×100 Array{Gray{Float64},2}:\n",
       " Gray{Float64}(0.557737)   …  Gray{Float64}(0.0333417)\n",
       " Gray{Float64}(19.9912)       Gray{Float64}(0.0)      \n",
       " Gray{Float64}(0.0)           Gray{Float64}(0.0)      \n",
       " Gray{Float64}(0.0)           Gray{Float64}(2.47907)  \n",
       " Gray{Float64}(0.0)           Gray{Float64}(0.0)      \n",
       " Gray{Float64}(1.61061)    …  Gray{Float64}(2.26864)  \n",
       " Gray{Float64}(0.0)           Gray{Float64}(0.0)      \n",
       " Gray{Float64}(0.0)           Gray{Float64}(8.83819)  \n",
       " Gray{Float64}(2.36177)       Gray{Float64}(0.0972069)\n",
       " Gray{Float64}(0.660552)      Gray{Float64}(0.330907) \n",
       " Gray{Float64}(0.196261)   …  Gray{Float64}(0.149109) \n",
       " Gray{Float64}(0.811238)      Gray{Float64}(0.210871) \n",
       " Gray{Float64}(0.407139)      Gray{Float64}(0.201435) \n",
       " ⋮                         ⋱                          \n",
       " Gray{Float64}(0.0)           Gray{Float64}(1.14423)  \n",
       " Gray{Float64}(0.660552)      Gray{Float64}(1.57951)  \n",
       " Gray{Float64}(36.3994)    …  Gray{Float64}(0.605466) \n",
       " Gray{Float64}(0.835656)      Gray{Float64}(0.278591) \n",
       " Gray{Float64}(1.73072)       Gray{Float64}(13.6952)  \n",
       " Gray{Float64}(0.0)           Gray{Float64}(0.327912) \n",
       " Gray{Float64}(0.0)           Gray{Float64}(0.0)      \n",
       " Gray{Float64}(0.0235761)  …  Gray{Float64}(0.0707284)\n",
       " Gray{Float64}(5.30921)       Gray{Float64}(1.13779)  \n",
       " Gray{Float64}(0.0)           Gray{Float64}(0.715876) \n",
       " Gray{Float64}(1.07936)       Gray{Float64}(1.39518)  \n",
       " Gray{Float64}(0.311949)      Gray{Float64}(0.522418) "
      ]
     },
     "execution_count": 36,
     "metadata": {},
     "output_type": "execute_result"
    }
   ],
   "source": [
    "colorview(Gray, scaled)"
   ]
  }
 ],
 "metadata": {
  "kernelspec": {
   "display_name": "Julia nodeps 0.6.0",
   "language": "julia",
   "name": "julia-nodeps-0.6"
  },
  "language_info": {
   "file_extension": ".jl",
   "mimetype": "application/julia",
   "name": "julia",
   "version": "0.6.2"
  }
 },
 "nbformat": 4,
 "nbformat_minor": 2
}
